{
 "cells": [
  {
   "cell_type": "markdown",
   "metadata": {},
   "source": [
    "## Imports et environnement"
   ]
  },
  {
   "cell_type": "markdown",
   "metadata": {},
   "source": [
    "## Documentation\n",
    "Documentation de scikit-image : http://scikit-image.org/docs/0.nn.x/ où nn est le numéro de version (a priori 18 ; taper 'pip3 show scikit-image' en ligne de commande pour afficher le numéro de version)\n",
    "\n",
    "Consulter l'API pour la documentation des fonctions (paramètres, valeur de retour, etc.). La Gallery contient de nombreux exemples intéressants.\n",
    "\n",
    "Dans le notebook, l'onglet \"Aide\" du menu contient d'autres liens très utiles vers diverses documentations."
   ]
  },
  {
   "cell_type": "code",
   "execution_count": 1,
   "metadata": {
    "scrolled": true
   },
   "outputs": [],
   "source": [
    "# visionneuse externe interactive\n",
    "#%matplotlib \n",
    "\n",
    "#imports\n",
    "import numpy as np # tableaux\n",
    "import scipy.ndimage as scp # correlation et convolution\n",
    "import matplotlib.pyplot as plt # visionneur et tracés\n",
    "import skimage\n",
    "\n",
    "from skimage import color # gestion de la couleur\n",
    "from skimage import data # petite banque d'images\n",
    "from skimage import io # lecture et sauvegarde d'images\n",
    "from skimage import util # conversions entier <-> flottants etc.\n",
    "from skimage import filters as flt # 'filter' ou 'filters' suivant la version de skimage\n",
    "\n",
    "# chemin d'accès à mes images \n",
    "my_path = \"Images/\""
   ]
  },
  {
   "cell_type": "markdown",
   "metadata": {},
   "source": [
    "## Préliminaire\n",
    "\n",
    "1. Charger une image\n",
    "\n",
    "  - une image de la base de scikit : module `data`\n",
    "  \n",
    "    ```python\n",
    "    I = data.astronaut()\n",
    "    ```\n",
    "    \n",
    "  - une image dans un répertoire : module `io`\n",
    "  \n",
    "    ```python\n",
    "    J = io.imread(mypath + \"/blob.png\")\n",
    "    ```\n",
    "    \n",
    "  \n",
    "2. Afficher une/des images\n",
    "\n",
    "  - module `pyplot` de `matplotlib`\n",
    "\n",
    "    ```python\n",
    "    plt.subplot(1,2,1)\n",
    "    plt.imshow(I)\n",
    "\n",
    "    plt.subplot(1,2,2)\n",
    "    plt.imshow(J, cmap = 'gray') # J est une image en niveaux de gris\n",
    "\n",
    "    plt.show()\n",
    "    ```\n",
    "    \n",
    "3. Afficher des informations sur une image\n",
    "\n",
    "  - type de données : \n",
    "    ```python\n",
    "    print(I.dtype)\n",
    "    >>> uint8 # les intensités sont stockées sous forme d'entier non signé (1 octet) \n",
    "    ```\n",
    "  - format : \n",
    "    ```python\n",
    "    print(I.shape)\n",
    "    >>> (512, 512, 3) # la taille de l'image est 512 x 512 ; il y a 3 couleurs (rgb)\n",
    "    ```\n",
    "\n",
    "4. Convertir l'image\n",
    "\n",
    "  - couleur vers niveaux de gris : module `color`\n",
    "\n",
    "    ```python\n",
    "    I = color.rgb2gray( I ) # Attention : peut modifier le type de données !\n",
    "    ``` \n",
    "    \n",
    "  - changer le type de données : `module util`\n",
    "  \n",
    "    ```python\n",
    "    I = util.img_as_ubyte( I )\n",
    "    ```"
   ]
  },
  {
   "cell_type": "code",
   "execution_count": 3,
   "metadata": {},
   "outputs": [
    {
     "name": "stdout",
     "output_type": "stream",
     "text": [
      "Hello world!\n"
     ]
    }
   ],
   "source": [
    "# Bac à sable\n",
    "# Ctrl + Entrée pour exécuter\n",
    "\n",
    "print( \"Hello world!\")"
   ]
  },
  {
   "cell_type": "markdown",
   "metadata": {},
   "source": [
    "## Transformations des niveaux de gris\n",
    "\n",
    "Appliquer une fonction `f` sur une image `I`:\n",
    "```python\n",
    "J = f( I )\n",
    "```\n",
    "Attention au type des données !\n",
    "```python\n",
    "I = data.astronaut()[:, :, 0] # premier plan de couleur (rouge)\n",
    "print( I.dtype )\n",
    ">>> uint8\n",
    "II = 2*I\n",
    "print( I.dtype )\n",
    ">>> uint8 # C'est quoi le problème ?\n",
    "```\n",
    "\n",
    "Solution possible : **passer en flottant, transformer, revenir en octets ...**"
   ]
  },
  {
   "cell_type": "code",
   "execution_count": 8,
   "metadata": {},
   "outputs": [
    {
     "name": "stdout",
     "output_type": "stream",
     "text": [
      "0.0 1.0\n"
     ]
    },
    {
     "data": {
      "image/png": "[encoded data removed]",
      "text/plain": [
       "<Figure size 432x288 with 3 Axes>"
      ]
     },
     "metadata": {
      "needs_background": "light"
     },
     "output_type": "display_data"
    }
   ],
   "source": [
    "import math\n",
    "# Lecture d'une image\n",
    "I  = io.imread(my_path + \"cheval.png\", as_gray=True)\n",
    "\n",
    "# Convertir si nécessaire (gris, flottant)\n",
    "I = util.img_as_float64(I)\n",
    "\n",
    "# Vérifier min et max\n",
    "print( I.min(), I.max() )\n",
    "\n",
    "# Transformer avec une fonction telle que :\n",
    "def f( img ):\n",
    "    max = img.max() + 1\n",
    "    return np.log1p(img)/np.log(max) #log1p(x) = log(1+x) avec un calcul plus robuste quand x ~ 0\n",
    "\n",
    "J = f(I)\n",
    "\n",
    "# Convertir en uint 8\n",
    "J = util.img_as_ubyte(I)\n",
    "\n",
    "# Représentations de I et J\n",
    "plt.subplot(1,3,1)\n",
    "plt.imshow(I, cmap='gray')\n",
    "\n",
    "plt.subplot(1,3,2)\n",
    "plt.imshow(J, cmap = 'gray') \n",
    "\n",
    "# Représentation de f\n",
    "X = np.arange(0, 256) # [[0, 255]]\n",
    "Y = f( X )\n",
    "plt.subplot(1,3,3)\n",
    "plt.plot(X, Y)\n",
    "plt.show()"
   ]
  },
  {
   "cell_type": "markdown",
   "metadata": {},
   "source": [
    "## Négatif"
   ]
  },
  {
   "cell_type": "code",
   "execution_count": 9,
   "metadata": {},
   "outputs": [
    {
     "data": {
      "image/png": "[encoded data removed]",
      "text/plain": [
       "<Figure size 432x288 with 1 Axes>"
      ]
     },
     "metadata": {
      "needs_background": "light"
     },
     "output_type": "display_data"
    }
   ],
   "source": [
    "from skimage.util import invert as inv\n",
    "# Tester sur une image en niveaux de gris\n",
    "K = util.invert(I)\n",
    "plt.imshow(K, cmap='gray')\n",
    "plt.show()"
   ]
  },
  {
   "cell_type": "markdown",
   "metadata": {},
   "source": [
    "## Dual"
   ]
  },
  {
   "cell_type": "code",
   "execution_count": 5,
   "metadata": {},
   "outputs": [
    {
     "ename": "SyntaxError",
     "evalue": "invalid syntax (953945358.py, line 7)",
     "output_type": "error",
     "traceback": [
      "\u001b[0;36m  Input \u001b[0;32mIn [5]\u001b[0;36m\u001b[0m\n\u001b[0;31m    I =    # penser aux conversions éventuelles\u001b[0m\n\u001b[0m           ^\u001b[0m\n\u001b[0;31mSyntaxError\u001b[0m\u001b[0;31m:\u001b[0m invalid syntax\n"
     ]
    }
   ],
   "source": [
    "# Écrire une fonction dual et tester avec la fonction f définie plus haut et plusieurs images\n",
    "\n",
    "def dual( op ):\n",
    "    # definir la fonction po = dual(op) ici\n",
    "    return po\n",
    "\n",
    "I =    # penser aux conversions éventuelles\n",
    "\n",
    "J =    # idem\n",
    "\n",
    "\n",
    "# Représentations de I et J\n",
    "plt.subplot(1,3,1)\n",
    "plt.imshow(I, cmap='gray')\n",
    "\n",
    "plt.subplot(1,3,2)\n",
    "plt.imshow(J, cmap = 'gray') \n",
    "\n",
    "# Représentation de f\n",
    "X = np.arange(0, 256, dtype='uint8')\n",
    "Y = dual(f)( X )\n",
    "plt.subplot(1,3,3)\n",
    "plt.plot(X, Y)\n",
    "\n",
    "plt.show()"
   ]
  },
  {
   "cell_type": "markdown",
   "metadata": {},
   "source": [
    "## Rehaussement de contraste\n",
    "Pour tout ce qui concerne les réhaussements de contraste, le module de référence est `exposure`"
   ]
  },
  {
   "cell_type": "code",
   "execution_count": null,
   "metadata": {},
   "outputs": [],
   "source": [
    "# Tester différents rehaussement de contraste (log, power, cos, etc.) avec leurs duaux\n",
    "\n",
    "I = \n",
    "print(I.dtype)\n",
    "print(I.shape)\n",
    "\n",
    "I =    # Conversions événtuelles\n",
    "print(I.dtype, I.max(), I.min())\n",
    "\n",
    "J =   # Choisir un rehaussement de contraste pour rehausser les zones sombres/grises/claires de I\n",
    "\n",
    "J_dual = \n",
    "\n",
    "plt.subplot(1,3,1)\n",
    "plt.imshow(I, cmap='gray')\n",
    "\n",
    "plt.subplot(1,3,2)\n",
    "plt.imshow(J, cmap='gray')\n",
    "\n",
    "plt.subplot(1,3,3)\n",
    "plt.imshow(J_dual, cmap='gray')\n",
    "\n",
    "plt.show()"
   ]
  },
  {
   "cell_type": "markdown",
   "metadata": {},
   "source": [
    "## Histogramme"
   ]
  },
  {
   "cell_type": "code",
   "execution_count": null,
   "metadata": {},
   "outputs": [],
   "source": [
    "import math\n",
    "from skimage.exposure import histogram\n",
    "\n",
    "I = \n",
    "hI = histogram(I);\n",
    "\n",
    "# Rehaussement de contraste\n",
    "J =   # Choisir un rehaussement de contraste pour rehausser les zones sombres/grises/claires de I\n",
    "hJ = histogram(J)\n",
    "\n",
    "# Affichage des courbes et de leurs histogrammes\n",
    "plt.subplot(2,2,1)\n",
    "plt.imshow(I, cmap='gray')\n",
    "\n",
    "plt.subplot(2,2,3)\n",
    "plt.bar(hI[1],hI[0], width=0.002)\n",
    "\n",
    "plt.subplot(2,2,2)\n",
    "plt.imshow(J, cmap='gray')\n",
    "\n",
    "plt.subplot(2,2,4)\n",
    "plt.bar(hJ[1],hJ[0], width=0.002)\n",
    "\n",
    "plt.show()"
   ]
  },
  {
   "cell_type": "markdown",
   "metadata": {},
   "source": [
    "## Normalisation"
   ]
  },
  {
   "cell_type": "code",
   "execution_count": null,
   "metadata": {},
   "outputs": [],
   "source": [
    "from skimage.exposure import rescale_intensity as norm\n",
    "\n",
    "# Normaliser l'image \"fish.png\" et comparer avec l'original (afficher les images et les histogrammes)\n",
    "...\n",
    "\n",
    "# Que peut-on en déduire ?\n",
    "\n",
    "# Enregistrer l'image normalisée (io.imsave) et comparer avec l'original (hors du notebook)\n"
   ]
  },
  {
   "cell_type": "markdown",
   "metadata": {},
   "source": [
    "## Égalisation"
   ]
  },
  {
   "cell_type": "code",
   "execution_count": null,
   "metadata": {},
   "outputs": [],
   "source": [
    "from skimage.exposure import equalize_hist as equ\n",
    "\n",
    "# Égaliser l'image \"livingRoom.png\" et comparer avec l'original (afficher les images et les histogrammes)\n"
   ]
  },
  {
   "cell_type": "markdown",
   "metadata": {},
   "source": [
    "## Spécification d'histogramme"
   ]
  },
  {
   "cell_type": "code",
   "execution_count": null,
   "metadata": {},
   "outputs": [],
   "source": [
    "from skimage.transform import match_histograms\n",
    "from skimage.exposure import cumulative_distribution as histogramc\n",
    "\n",
    "\n",
    "I = \n",
    "J = \n",
    "\n",
    "K = match_histograms(I, J)\n",
    "\n",
    "plt.subplot(2,3,1)\n",
    "plt.imshow(J, cmap='gray')\n",
    "\n",
    "plt.subplot(2,3,2)\n",
    "plt.imshow(I, cmap='gray')\n",
    "\n",
    "plt.subplot(2,3,3)\n",
    "plt.imshow(K, cmap='gray')\n",
    "\n",
    "hI = histogramc(I)\n",
    "hJ = histogramc(J)\n",
    "hK = histogramc(K)\n",
    "\n",
    "plt.subplot(2,3,4)\n",
    "plt.bar(hJ[1],hJ[0], width=1)\n",
    "\n",
    "plt.subplot(2,3,5)\n",
    "plt.bar(hI[1],hI[0], width=1)\n",
    "\n",
    "plt.subplot(2,3,6)\n",
    "plt.bar(hK[1],hK[0], width=1)"
   ]
  },
  {
   "cell_type": "markdown",
   "metadata": {},
   "source": [
    "## Seuillage manuel ou guidé par l'histogramme"
   ]
  },
  {
   "cell_type": "code",
   "execution_count": null,
   "metadata": {},
   "outputs": [],
   "source": [
    "from skimage.exposure import histogram\n",
    "\n",
    "I = \n",
    "h = histogram(I);\n",
    "\n",
    "J = I > ?\n",
    "\n",
    "plt.subplot(1,3,1)\n",
    "plt.imshow(I, cmap='gray')\n",
    "\n",
    "plt.subplot(1,3,2)\n",
    "plt.bar(h[1],h[0], width=1)\n",
    "\n",
    "plt.subplot(1,3,3)\n",
    "plt.imshow(J, cmap='gray')\n",
    "\n",
    "plt.show()"
   ]
  },
  {
   "cell_type": "markdown",
   "metadata": {},
   "source": [
    "## Seuillage automatique : 2-moyennes"
   ]
  },
  {
   "cell_type": "code",
   "execution_count": null,
   "metadata": {},
   "outputs": [],
   "source": [
    "I = \n",
    "\n",
    "#initialisation\n",
    "seuil = \n",
    "\n",
    "# itérations\n",
    "\n",
    "\n",
    "#résultat\n",
    "print(seuil)\n",
    "\n",
    "plt.subplot(1,2,1)\n",
    "plt.imshow(I, cmap='gray')\n",
    "\n",
    "plt.subplot(1,2,2)\n",
    "plt.imshow(J, cmap='gray')\n",
    "\n",
    "plt.show()"
   ]
  },
  {
   "cell_type": "markdown",
   "metadata": {},
   "source": [
    "## Seuillage automatique : Otsu"
   ]
  },
  {
   "cell_type": "code",
   "execution_count": null,
   "metadata": {},
   "outputs": [],
   "source": [
    "from flt import threshold_otsu\n",
    "I = \n",
    "\n",
    "seuil = \n",
    "print(seuil)\n",
    "\n",
    "J = \n",
    "\n",
    "plt.subplot(1,2,1)\n",
    "plt.imshow(I, cmap='gray')\n",
    "\n",
    "plt.subplot(1,2, 2)\n",
    "plt.imshow(J, cmap='gray')\n",
    "\n",
    "plt.show()"
   ]
  }
 ],
 "metadata": {
  "celltoolbar": "Aucun(e)",
  "kernelspec": {
   "display_name": "Python 3 (ipykernel)",
   "language": "python",
   "name": "python3"
  },
  "language_info": {
   "codemirror_mode": {
    "name": "ipython",
    "version": 3
   },
   "file_extension": ".py",
   "mimetype": "text/x-python",
   "name": "python",
   "nbconvert_exporter": "python",
   "pygments_lexer": "ipython3",
   "version": "3.8.10"
  }
 },
 "nbformat": 4,
 "nbformat_minor": 2
}
