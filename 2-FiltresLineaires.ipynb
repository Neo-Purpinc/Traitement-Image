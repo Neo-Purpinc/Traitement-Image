{
 "cells": [
  {
   "cell_type": "markdown",
   "metadata": {},
   "source": [
    "# Filtrage linéaire"
   ]
  },
  {
   "cell_type": "code",
   "execution_count": 2,
   "metadata": {
    "scrolled": true
   },
   "outputs": [],
   "source": [
    "# visionneuse externe interactive\n",
    "#%matplotlib \n",
    "\n",
    "#imports\n",
    "import numpy as np # tableaux\n",
    "import scipy.ndimage as scp # correlation et convolution\n",
    "import matplotlib.pyplot as plt # visionneur et tracés\n",
    "\n",
    "import skimage\n",
    "from skimage import color # gestion de la couleur\n",
    "from skimage import data # petite banque d'images\n",
    "from skimage import io # lecture et sauvegarde d'images\n",
    "from skimage import util # conversions entier <-> flottants etc.\n",
    "from skimage import filters as flt # filtres\n",
    "\n",
    "# chemin d'accès à mes images \n",
    "my_path = \"Images/Tmp/\""
   ]
  },
  {
   "cell_type": "markdown",
   "metadata": {},
   "source": [
    "## Lissage simple (moyenne arithmétique)\n",
    "(tester différentes largeurs de masque)"
   ]
  },
  {
   "cell_type": "code",
   "execution_count": 4,
   "metadata": {},
   "outputs": [
    {
     "name": "stdout",
     "output_type": "stream",
     "text": [
      "[[0.04 0.04 0.04 0.04 0.04]\n",
      " [0.04 0.04 0.04 0.04 0.04]\n",
      " [0.04 0.04 0.04 0.04 0.04]\n",
      " [0.04 0.04 0.04 0.04 0.04]\n",
      " [0.04 0.04 0.04 0.04 0.04]]\n"
     ]
    }
   ],
   "source": [
    "# Chargement de l'image et conversion éventuelle (gris, flottant)\n",
    "I = data.coffee()\n",
    "I = color.rgb2gray(I)\n",
    "\n",
    "# Création du masque\n",
    "w = 5 #largeur du masque\n",
    "mask = ( np.array([1.0]*w**2) / w**2 ).reshape(w,w) # ou skimage.morphology.square(w)/w**2\n",
    "print(mask)\n",
    "\n",
    "# Convolution\n",
    "J1 = scp.correlate(I, mask, mode='nearest') # voir ci-dessous pour le mode\n",
    "\n",
    "# Affichage\n",
    "plt.subplot(1,2,1)\n",
    "plt.imshow(I, cmap='gray')\n",
    "\n",
    "plt.subplot(1,2,2)\n",
    "plt.imshow(J1, cmap='gray')\n",
    "\n",
    "plt.show()"
   ]
  },
  {
   "cell_type": "markdown",
   "metadata": {},
   "source": [
    "### Modes proposés dans skimage pour les bords\n",
    "    \n",
    "    \n",
    "<table width=50% align=center>\n",
    "<tr> \n",
    "<td>mode      <td>   Ext   <td>         Image          <td>   Ext\n",
    "<!-----------+---------+------------------------+--------->\n",
    "<tr>\n",
    "<td>'mirror'   <td> 4  3  2 <td> 1  2  3  4  5  6  7  8 <td> 7  6  5\n",
    "<tr>\n",
    "<td>'reflect'  <td> 3  2  1 <td> 1  2  3  4  5  6  7  8 <td> 8  7  6\n",
    "<tr>\n",
    "<td>'nearest'  <td> 1  1  1 <td> 1  2  3  4  5  6  7  8 <td> 8  8  8\n",
    "<tr>\n",
    "<td>'constant' <td> 0  0  0 <td> 1  2  3  4  5  6  7  8 <td> 0  0  0\n",
    "<tr>\n",
    "<td>'wrap'     <td> 6  7  8 <td> 1  2  3  4  5  6  7  8 <td> 1  2  3\n",
    "</table>"
   ]
  },
  {
   "cell_type": "markdown",
   "metadata": {},
   "source": [
    "## Lissage gaussien\n",
    "(tester différents écarts-types)"
   ]
  },
  {
   "cell_type": "code",
   "execution_count": 6,
   "metadata": {},
   "outputs": [],
   "source": [
    "# Convolution\n",
    "J2 = flt.gaussian(I, sigma=5) #  équivaut à J2 =  = flt.gaussian(I, sigma=1, mode='nearest')\n",
    "\n",
    "\n",
    "# Affichage\n",
    "plt.subplot(1,2,1)\n",
    "plt.imshow(I, cmap='gray')\n",
    "\n",
    "plt.subplot(1,2,2)\n",
    "plt.imshow(J2, cmap='gray')\n",
    "\n",
    "plt.show()"
   ]
  },
  {
   "cell_type": "markdown",
   "metadata": {},
   "source": [
    "## Filtre passe-haut"
   ]
  },
  {
   "cell_type": "code",
   "execution_count": null,
   "metadata": {},
   "outputs": [],
   "source": [
    "# On se propose de filtrer les caractères des touches de l'image 'keyb.png' \n",
    "I = \n",
    "\n",
    "# Filtrage passe-bas (utiliser un écart-type assez grand pour lisser les caractères avec le fond)\n",
    "J = \n",
    "\n",
    "# Filtrage passe-haut (on récupère ce que le filtre passe-bas à supprimé)\n",
    "K = \n",
    "\n",
    "# normalisation des valeurs (ici on recherche des détails clairs)\n",
    "K[ K < 0 ] = 0 # (on ramène à 0 les pixels dont l'intensité est négative)\n",
    "\n",
    "# Afficher I, J, K\n"
   ]
  },
  {
   "cell_type": "markdown",
   "metadata": {},
   "source": [
    "## Rehaussement de contraste"
   ]
  },
  {
   "cell_type": "code",
   "execution_count": null,
   "metadata": {},
   "outputs": [],
   "source": [
    "# Définir une fonction de rehaussement de contraste \n",
    "def enhance(img, sigma=0.5, iter=1):\n",
    "    K = img\n",
    "    for i in range(iter):\n",
    "        K = K + (K - flt.gaussian(img, sigma=sigma))\n",
    "        # ne pas oublier de normaliser les valeurs\n",
    "        \n",
    "    return K\n",
    "\n",
    "# Appliquer sur une image avec différents paramètres\n",
    "\n"
   ]
  },
  {
   "cell_type": "markdown",
   "metadata": {},
   "source": [
    "## Détection d'arêtes horizontale ou verticales\n",
    "Fonctions `prewitt_h`, `prewitt_v` et `sobel_h`, `sobel_v` du module `filters`"
   ]
  },
  {
   "cell_type": "code",
   "execution_count": null,
   "metadata": {},
   "outputs": [],
   "source": [
    "# Tester sur une image en niveau de gris\n",
    "I = io.imread(my_path+\"house.png\")\n",
    "\n",
    "\n",
    "# Affichage\n",
    "plt.subplot(1,2,1)\n",
    "plt.imshow(I, cmap='gray')\n",
    "\n",
    "plt.subplot(1,2,2)\n",
    "#plt.imshow(J2, cmap='gray')\n",
    "\n",
    "plt.show()"
   ]
  },
  {
   "cell_type": "markdown",
   "metadata": {},
   "source": [
    "## Gradient\n",
    "Fonctions `prewitt` et `sobel` du module `filters`"
   ]
  },
  {
   "cell_type": "code",
   "execution_count": null,
   "metadata": {},
   "outputs": [],
   "source": [
    "# Tester sur la même image que précédemment\n"
   ]
  },
  {
   "cell_type": "markdown",
   "metadata": {},
   "source": [
    "## Laplacien\n",
    "Fonction `laplace` du module `filters`"
   ]
  },
  {
   "cell_type": "code",
   "execution_count": null,
   "metadata": {},
   "outputs": [],
   "source": [
    "# Tester sur la même image (penser à normaliser les valeurs)\n"
   ]
  },
  {
   "cell_type": "code",
   "execution_count": null,
   "metadata": {},
   "outputs": [],
   "source": []
  }
 ],
 "metadata": {
  "kernelspec": {
   "display_name": "Python 3",
   "language": "python",
   "name": "python3"
  },
  "language_info": {
   "codemirror_mode": {
    "name": "ipython",
    "version": 3
   },
   "file_extension": ".py",
   "mimetype": "text/x-python",
   "name": "python",
   "nbconvert_exporter": "python",
   "pygments_lexer": "ipython3",
   "version": "3.8.6"
  }
 },
 "nbformat": 4,
 "nbformat_minor": 2
}
