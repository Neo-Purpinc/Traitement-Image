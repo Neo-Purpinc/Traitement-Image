{
 "cells": [
  {
   "cell_type": "markdown",
   "metadata": {},
   "source": [
    "Dans ce TP, on se propose d'implanter et tester les algorithmes de squelettisation homotopique.\n",
    "\n",
    "Documentation : utiliser l'onglet \"**Aide**\" du menu et la [doc de skimage](http://scikit-image.org/docs/stable/api/api.html)\n",
    "\n",
    "Le sujet se trouve sur [Moodle](https://moodle3.unistra.fr/mod/resource/view.php?id=101883).\n"
   ]
  },
  {
   "cell_type": "markdown",
   "metadata": {},
   "source": [
    "### Imports "
   ]
  },
  {
   "cell_type": "code",
   "execution_count": 3,
   "metadata": {},
   "outputs": [],
   "source": [
    "# visionneuse externe interactive\n",
    "#imports\n",
    "import numpy as np # tableaux\n",
    "import scipy.ndimage as scp # convolution et transformée de distance\n",
    "import matplotlib.pyplot as plt # visionneur et tracés\n",
    "import skimage\n",
    "\n",
    "from skimage import color # gestion de la couleur\n",
    "from skimage import data # petite banque d'images\n",
    "from skimage import io # lecture et sauvegarde d'images\n",
    "from skimage import util # conversions entier <-> flottants etc.\n",
    "from skimage import filters as flt # \n",
    "\n",
    "# chemin d'accès à mes images \n",
    "#my_path = \"Images/\""
   ]
  },
  {
   "cell_type": "markdown",
   "metadata": {},
   "source": [
    "### 1. Créer l'image \"TETE\" du sujet"
   ]
  },
  {
   "cell_type": "code",
   "execution_count": 9,
   "metadata": {},
   "outputs": [
    {
     "data": {
      "image/png": "[encoded data removed]",
      "text/plain": [
       "<Figure size 432x288 with 1 Axes>"
      ]
     },
     "metadata": {
      "needs_background": "light"
     },
     "output_type": "display_data"
    }
   ],
   "source": [
    "TETE = np.array([\n",
    "                 [0,0,0,0,0,0,0,0,0],\n",
    "                 [0,1,1,1,1,1,0,0,0],\n",
    "                 [0,1,1,1,1,1,0,0,0],\n",
    "                 [0,1,1,1,0,1,1,1,0],\n",
    "                 [0,1,1,1,1,1,0,0,0],\n",
    "                 [0,1,1,1,1,1,0,0,0],\n",
    "                 [0,1,1,1,1,0,0,0,0],\n",
    "                 [0,0,0,0,0,0,0,0,0],\n",
    "                 [0,0,0,0,0,0,0,0,0]\n",
    "                ],dtype=bool)\n",
    "plt.imshow(TETE,cmap='gray')\n",
    "plt.show()"
   ]
  },
  {
   "cell_type": "markdown",
   "metadata": {},
   "source": [
    "### 2. Écrire une fonction pour tester la simplicité d'un pixel. \n",
    "En 2D, on peut utiliser le critère de Yokoï :\n",
    "https://dpt-info.u-strasbg.fr/~cronse/TIDOC/SQ/simple.html\n",
    "\n",
    "On peut aussi écrire Y8(p) sous forme booléenne : \n",
    "`Y8 =  ( ( not x0 ) and ( x1 or x2 ) ) + ...` "
   ]
  },
  {
   "cell_type": "code",
   "execution_count": 17,
   "metadata": {},
   "outputs": [
    {
     "name": "stdout",
     "output_type": "stream",
     "text": [
      "**********************************************************************\n",
      "File \"__main__\", line 29, in __main__.isSimple\n",
      "Failed example:\n",
      "    isSimple(I)\n",
      "Expected:\n",
      "    1\n",
      "    1\n",
      "    0\n",
      "    0\n",
      "    2\n",
      "    True\n",
      "Got:\n",
      "    1\n",
      "    1\n",
      "    0\n",
      "    0\n",
      "    2\n",
      "    False\n",
      "**********************************************************************\n",
      "1 items had failures:\n",
      "   1 of   6 in __main__.isSimple\n",
      "***Test Failed*** 1 failures.\n"
     ]
    },
    {
     "data": {
      "text/plain": [
       "TestResults(failed=1, attempted=6)"
      ]
     },
     "execution_count": 17,
     "metadata": {},
     "output_type": "execute_result"
    }
   ],
   "source": [
    "def isSimple(I):\n",
    "    '''\n",
    "    Teste si le pixel central de masque I est simple.\n",
    "    \n",
    "    La fonction utilise le critère de Yokoï pour la 8-adjacence. \n",
    "\n",
    "    :param I: image binaire 3x3 (numpy array avec dtype=bool)\n",
    "    :return: True si p est simple\n",
    "    \n",
    "    :Example:\n",
    "    \n",
    "    >>> I = np.array([[1, 1, 1], [1, 1, 1], [1, 1, 1]], dtype=bool)\n",
    "    >>> isSimple(I)\n",
    "    0\n",
    "    0\n",
    "    0\n",
    "    0\n",
    "    0\n",
    "    False\n",
    "    >>> I = np.array([[0, 0, 1], [0, 1, 0], [1,0,0]], dtype=bool)\n",
    "    >>> isSimple(I)\n",
    "    0\n",
    "    0\n",
    "    0\n",
    "    0\n",
    "    0\n",
    "    False\n",
    "    >>> I = np.array([[0, 1, 0], [0, 1, 1], [0,0,0]], dtype=bool)\n",
    "    >>> isSimple(I)\n",
    "    1\n",
    "    1\n",
    "    0\n",
    "    0\n",
    "    2\n",
    "    True\n",
    "    '''  \n",
    "    print(I[0,1]*(1-I[0,2]*I[1,2]))\n",
    "    print(I[1,2]*(1-I[2,2]*I[2,1]))\n",
    "    print(I[2,1]*(1-I[2,0]*I[1,0]))\n",
    "    print(I[1,0]*(1-I[0,0]*I[0,1]))\n",
    "    print(I[0,1]*(1-I[0,2]*I[1,2])+I[1,2]*(1-I[2,2]*I[2,1])+I[2,1]*(1-I[2,0]*I[1,0])+I[1,0]*(1-I[0,0]*I[0,1]))\n",
    "    return True if ((I[0,1]*(1-I[0,2]*I[1,2])+ I[1,2]*(1-I[2,2]*I[2,1]) + I[2,1]*(1-I[2,0]*I[1,0]) + I[1,0]*(1-I[0,0]*I[0,1])) == 1) else False\n",
    "\n",
    "import doctest\n",
    "doctest.testmod()\n",
    "\n",
    "# Si on veut tester le temps d'exécution :\n",
    "# %timeit isSimple(np.array([[1, 1, 1], [1, 1, 1], [1, 1, 1]], dtype=bool))"
   ]
  },
  {
   "cell_type": "markdown",
   "metadata": {},
   "source": [
    "### 3. Écrire la fonction hasAtLeast2Neighbors"
   ]
  },
  {
   "cell_type": "code",
   "execution_count": null,
   "metadata": {},
   "outputs": [],
   "source": [
    "def hasAtLeast2Neighbors(I):\n",
    "    '''\n",
    "    Retourne True si le pixel central de I a au moins deux 8-voisins.\n",
    "    \n",
    "    Le pixel central est censé être allumé.\n",
    "    \n",
    "    :param I: image binaire 3x3 (numpy array)\n",
    "    :return: True si p a au moins deux 8-voisins\n",
    "    '''\n",
    "    return True if numpy.array(I,dtype=bool).sum()-1 >= 2 else False"
   ]
  },
  {
   "cell_type": "markdown",
   "metadata": {},
   "source": [
    "### 4. Écrire la fonction algoSeq(img, cond_geo) qui implante l'algorithme séquentiel. \n",
    "Pour itérer sur l'image en ayant accès aux coordonnées des pixels voir ici :\n",
    "\n",
    "https://docs.scipy.org/doc/numpy/reference/arrays.nditer.html#tracking-an-index-or-multi-index\n",
    "\n",
    "Tester votre fonction sur l'image TETE.\n"
   ]
  },
  {
   "cell_type": "code",
   "execution_count": null,
   "metadata": {},
   "outputs": [],
   "source": [
    "def algoSeq(img, geo_cond=lambda I:True):\n",
    "    '''\n",
    "    Réalise un amincissement homotopique de l'image img en suivant l'algorithme séquentiel\n",
    "    \n",
    "    Par effet de bord, la fonction affiche le nombre de pixels supprimés à chaque itération\n",
    "    puis le nombre d'itérations effectuées.\n",
    "    \n",
    "    :param img: image binaire (numpy array avec dtype=bool)\n",
    "    :param geo_cond: fonction de type nd.array binaire 3x3 -> bool utilisée comme critère géométrique dans l'algo.\n",
    "    :return: L'image amincie.\n",
    "    '''\n",
    "    \n",
    "    ..."
   ]
  },
  {
   "cell_type": "markdown",
   "metadata": {},
   "source": [
    "### 5. Écrire une fonction algoSeqMem implantant l'algorithme séquentiel à mémoire puis traiter la question 1.2 du TD"
   ]
  },
  {
   "cell_type": "markdown",
   "metadata": {},
   "source": [
    "### 6. Écrire une fonction algoPar implantant l'algorithme parallèle puis traiter la question 1.3 du TD"
   ]
  },
  {
   "cell_type": "markdown",
   "metadata": {},
   "source": [
    "### 7. Écrire une fonction algoParMailles implantant l'algorithme parallèle à deux sous-mailles puis traiter la question 1.4 du TD."
   ]
  },
  {
   "cell_type": "markdown",
   "metadata": {},
   "source": [
    "### 8. Pour aller plus loin avec d'autres images ...\n",
    "   * a) Utiliser les fonctions d'amincissement précédentes sur les images cheval et A. \n",
    "   * b) Lisser le bord du cheval avec les fonctions morphologiques opening et closing et refaire les amincissements. "
   ]
  }
 ],
 "metadata": {
  "kernelspec": {
   "display_name": "Python 3 (ipykernel)",
   "language": "python",
   "name": "python3"
  },
  "language_info": {
   "codemirror_mode": {
    "name": "ipython",
    "version": 3
   },
   "file_extension": ".py",
   "mimetype": "text/x-python",
   "name": "python",
   "nbconvert_exporter": "python",
   "pygments_lexer": "ipython3",
   "version": "3.8.10"
  }
 },
 "nbformat": 4,
 "nbformat_minor": 2
}
